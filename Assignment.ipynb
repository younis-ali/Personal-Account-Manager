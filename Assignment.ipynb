{
  "nbformat": 4,
  "nbformat_minor": 0,
  "metadata": {
    "colab": {
      "name": "Assignment.ipynb",
      "provenance": [],
      "collapsed_sections": []
    },
    "kernelspec": {
      "name": "python3",
      "display_name": "Python 3"
    },
    "language_info": {
      "name": "python"
    }
  },
  "cells": [
    {
      "cell_type": "code",
      "metadata": {
        "id": "mDSMSC_-HKxm"
      },
      "source": [
        "''' This notebook is the demo of Personal Account Manager.\n",
        "we use sqlite package of pyhon to create the database. To intract with\n",
        "the database tables we use FastAPI where we can type querie to insert records \n",
        "into the table and DML queries also. After executing DML queries the output is\n",
        "stored in csv file '''"
      ],
      "execution_count": null,
      "outputs": []
    },
    {
      "cell_type": "code",
      "metadata": {
        "id": "XKaUtscyMxUF"
      },
      "source": [
        "# Install the repqired packages\n",
        "!pip install fastapi nest-asyncio pyngrok uvicorn"
      ],
      "execution_count": null,
      "outputs": []
    },
    {
      "cell_type": "code",
      "metadata": {
        "id": "J56kQSB4XP75"
      },
      "source": [
        "import sqlite3\n",
        "import csv\n",
        "conn = sqlite3.connect('test.db')  # Connect to the database by conn object\n",
        "def createDatabase():\n",
        "  # This function connects to the database and creates the Expenses table\n",
        "  print(\"Opened database successfully\");\n",
        "\n",
        "  conn.execute('''\n",
        "  CREATE TABLE IF NOT EXISTS Expenses(Expense Type, \n",
        "                        Cost float, \n",
        "                        Date date);''')\n",
        "\n",
        "  conn.commit()\n",
        "\n",
        "  print(\"Table created successfully\");\n",
        "\n",
        "def enterData(query):\n",
        "  createDatabase() \n",
        "  conn.execute(query)\n",
        "  conn.commit()\n",
        "\n",
        "def queries(auery):\n",
        "  # This function implements the DML queries\n",
        "  cursor = conn.execute(query)\n",
        "  # open the file in the write mode\n",
        "  f = open('data.csv', 'w')\n",
        "  # create the csv writer\n",
        "  writer = csv.writer(f)\n",
        "  for row in cursor:\n",
        "    print(row)\n",
        "    # write a row to the csv file\n",
        "    writer.writerow(row)\n"
      ],
      "execution_count": 4,
      "outputs": []
    },
    {
      "cell_type": "code",
      "metadata": {
        "id": "j1poJ-ebXFp5"
      },
      "source": [
        "from fastapi import FastAPI\n",
        "from fastapi.middleware.cors import CORSMiddleware\n",
        "import time\n",
        "\n",
        "app = FastAPI()\n",
        "\n",
        "app.add_middleware(\n",
        "    CORSMiddleware,\n",
        "    allow_origins=['*'],\n",
        "    allow_credentials=True,\n",
        "    allow_methods=['*'],\n",
        "    allow_headers=['*'],\n",
        ")\n",
        "\n",
        "@app.get('/')\n",
        "async def root():\n",
        "    return {'Assignment': 'Personal Accounts Manager'}\n",
        "\n",
        "@app.post('/Enter Data into the table')\n",
        "async def createTable(query: str):\n",
        "  st = time.time()\n",
        "  enterData(query)\n",
        "  time_taken = time.time()-st\n",
        "  return {'Info': 'Record Insterted successfully!', 'EXECUTION_TIME':'{:.2f}s'.format(time_taken)}\n",
        "\n",
        "@app.post('/View data by entering DML Queries')\n",
        "async def maniupulateData(query: str):\n",
        "  st = time.time()\n",
        "  queries(query)\n",
        "  time_taken = time.time()-st\n",
        "  return {'Info': 'Query executed successfully!', 'EXECUTION_TIME':'{:.2f}s'.format(time_taken)}"
      ],
      "execution_count": 10,
      "outputs": []
    },
    {
      "cell_type": "code",
      "metadata": {
        "id": "L3djnAEPZdR2"
      },
      "source": [
        "import nest_asyncio\n",
        "from pyngrok import ngrok\n",
        "import uvicorn\n",
        "\n",
        "ngrok_tunnel = ngrok.connect(8000)\n",
        "print('Public URL:', ngrok_tunnel.public_url)\n",
        "nest_asyncio.apply()\n",
        "uvicorn.run(app, port=8000)"
      ],
      "execution_count": null,
      "outputs": []
    }
  ]
}